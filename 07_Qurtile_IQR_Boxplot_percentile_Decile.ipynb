{
 "cells": [
  {
   "cell_type": "markdown",
   "id": "fb7b0545",
   "metadata": {},
   "source": [
    "<div style=\"color:#483838; padding:0px 10px; border-radius:5px; font-size:18px; text-align:center\"><h1 style='margin:10px 5px'>Qurtile_IQR_Boxplot_percentile_Decile</h1>\n",
    "</div>\n",
    "\n",
    "- __01)Quartile__\n",
    "- __02)IQR__\n",
    "- __03)qurtile and IQR in python__\n",
    "- __04)Boxplot__\n",
    "- __05)Percentile__\n",
    "- __06)Decile__"
   ]
  },
  {
   "cell_type": "markdown",
   "id": "202d0b27",
   "metadata": {},
   "source": [
    "## 01)Quartile"
   ]
  },
  {
   "cell_type": "markdown",
   "id": "a548c2f1",
   "metadata": {},
   "source": [
    "- In Qurtile the data is being devided into 4 parts, and each part has 25 percent of data.\n",
    "- In calculating qurtile the data must be in order."
   ]
  },
  {
   "attachments": {
    "07_1.PNG": {
     "image/png": "[encoded data removed]"
    }
   },
   "cell_type": "markdown",
   "id": "c5ef025a",
   "metadata": {},
   "source": [
    "![07_1.PNG](attachment:07_1.PNG)"
   ]
  },
  {
   "cell_type": "markdown",
   "id": "38d1c052",
   "metadata": {},
   "source": [
    "## 02)IQR"
   ]
  },
  {
   "cell_type": "markdown",
   "id": "bc40c8a0",
   "metadata": {},
   "source": [
    "- IQR(Interquartile Range) measures the spread of the middle half of your data.\n",
    "- It is the range for the middle 50% of your sample. Use the IQR to assess the variability where most of your values lie.\n",
    "- It acts like Trim_mean, it contains 50 percent of data and omit othere."
   ]
  },
  {
   "cell_type": "markdown",
   "id": "b33b3f89",
   "metadata": {},
   "source": [
    "$$IQR = Q_3 - Q_1$$"
   ]
  },
  {
   "cell_type": "markdown",
   "id": "664d225a",
   "metadata": {},
   "source": [
    "## 03)qurtile and IQR in python"
   ]
  },
  {
   "cell_type": "code",
   "execution_count": 1,
   "id": "52c32c55",
   "metadata": {},
   "outputs": [],
   "source": [
    "import pandas as pd\n",
    "import numpy as np"
   ]
  },
  {
   "cell_type": "code",
   "execution_count": 2,
   "id": "686074d5",
   "metadata": {},
   "outputs": [],
   "source": [
    "data = pd.read_csv('G:/Data_analyst/student_data.csv')\n",
    "df_grade = (data['G1'] + data['G2'] + data['G3'])"
   ]
  },
  {
   "cell_type": "code",
   "execution_count": 3,
   "id": "17120da8",
   "metadata": {},
   "outputs": [
    {
     "data": {
      "text/plain": [
       "count    395.000000\n",
       "mean      32.037975\n",
       "std       11.090357\n",
       "min        4.000000\n",
       "25%       25.000000\n",
       "50%       32.000000\n",
       "75%       40.000000\n",
       "max       58.000000\n",
       "dtype: float64"
      ]
     },
     "execution_count": 3,
     "metadata": {},
     "output_type": "execute_result"
    }
   ],
   "source": [
    "df_grade.describe()"
   ]
  },
  {
   "cell_type": "markdown",
   "id": "271abb91",
   "metadata": {},
   "source": [
    "- This command shows, qurtiles in addition to mean, std, min and max."
   ]
  },
  {
   "cell_type": "markdown",
   "id": "9010e829",
   "metadata": {},
   "source": [
    "- Using this data we are able to calculate the `skewness`"
   ]
  },
  {
   "cell_type": "markdown",
   "id": "433b70e9",
   "metadata": {},
   "source": [
    "$Q_3 - Q_2 > Q_2 - Q_1 \\Longrightarrow  Positive Skewness$"
   ]
  },
  {
   "cell_type": "markdown",
   "id": "36d8238f",
   "metadata": {},
   "source": [
    "$Q_2 - Q_1 > Q_3 - Q_2 \\Longrightarrow Negative Skewness$"
   ]
  },
  {
   "cell_type": "markdown",
   "id": "3ba95eae",
   "metadata": {},
   "source": [
    "$Q_2 - Q_1 = Q_3 - Q_2 \\Longrightarrow Symetric$"
   ]
  },
  {
   "attachments": {
    "07_2.PNG": {
     "image/png": "[encoded data removed]"
    }
   },
   "cell_type": "markdown",
   "id": "fc5854e5",
   "metadata": {},
   "source": [
    "![07_2.PNG](attachment:07_2.PNG)"
   ]
  },
  {
   "cell_type": "markdown",
   "id": "16327966",
   "metadata": {},
   "source": [
    "__in dataset:__"
   ]
  },
  {
   "cell_type": "markdown",
   "id": "1c1ad5ad",
   "metadata": {},
   "source": [
    "$Q_3 - Q_2 = 8$\n",
    "\n",
    "$Q_2 - Q_1 = 7$"
   ]
  },
  {
   "cell_type": "code",
   "execution_count": 4,
   "id": "f0101e54",
   "metadata": {},
   "outputs": [
    {
     "data": {
      "text/plain": [
       "395"
      ]
     },
     "execution_count": 4,
     "metadata": {},
     "output_type": "execute_result"
    }
   ],
   "source": [
    "len(df_grade)"
   ]
  },
  {
   "cell_type": "markdown",
   "id": "e4952537",
   "metadata": {},
   "source": [
    "- There are 395 samples in our data set and 1 difference cannot tell us about skewness. 1 is good for when we have about 10 samples.Here we can say our data is symetric."
   ]
  },
  {
   "cell_type": "markdown",
   "id": "b60451ef",
   "metadata": {},
   "source": [
    "## 04)Boxplot"
   ]
  },
  {
   "cell_type": "code",
   "execution_count": 5,
   "id": "1a86a24c",
   "metadata": {},
   "outputs": [],
   "source": [
    "import seaborn as sns"
   ]
  },
  {
   "cell_type": "code",
   "execution_count": 6,
   "id": "72c5d44b",
   "metadata": {},
   "outputs": [
    {
     "data": {
      "text/plain": [
       "Index(['school', 'sex', 'age', 'address', 'famsize', 'Pstatus', 'Medu', 'Fedu',\n",
       "       'Mjob', 'Fjob', 'reason', 'guardian', 'traveltime', 'studytime',\n",
       "       'failures', 'schoolsup', 'famsup', 'paid', 'activities', 'nursery',\n",
       "       'higher', 'internet', 'romantic', 'famrel', 'freetime', 'goout', 'Dalc',\n",
       "       'Walc', 'health', 'absences', 'G1', 'G2', 'G3', 'sum_grade'],\n",
       "      dtype='object')"
      ]
     },
     "execution_count": 6,
     "metadata": {},
     "output_type": "execute_result"
    }
   ],
   "source": [
    "data[\"sum_grade\"] = df_grade\n",
    "data.columns"
   ]
  },
  {
   "cell_type": "code",
   "execution_count": 7,
   "id": "5269f37b",
   "metadata": {},
   "outputs": [
    {
     "data": {
      "text/plain": [
       "<AxesSubplot: >"
      ]
     },
     "execution_count": 7,
     "metadata": {},
     "output_type": "execute_result"
    },
    {
     "data": {
      "image/png": "[encoded data removed]",
      "text/plain": [
       "<Figure size 640x480 with 1 Axes>"
      ]
     },
     "metadata": {},
     "output_type": "display_data"
    }
   ],
   "source": [
    "data.boxplot(['sum_grade'])"
   ]
  },
  {
   "attachments": {
    "07_4.PNG": {
     "image/png": "[encoded data removed]"
    }
   },
   "cell_type": "markdown",
   "id": "1c5a6766",
   "metadata": {},
   "source": [
    "![07_4.PNG](attachment:07_4.PNG)"
   ]
  },
  {
   "cell_type": "markdown",
   "id": "3e8d7bdd",
   "metadata": {},
   "source": [
    "- Since Q2 is in the middle of box, so we can say there we have a normal data."
   ]
  },
  {
   "cell_type": "markdown",
   "id": "c1ecb86f",
   "metadata": {},
   "source": [
    "## 05)Percntile"
   ]
  },
  {
   "cell_type": "markdown",
   "id": "c562155f",
   "metadata": {},
   "source": [
    "- The data will be devided to 100 equal parts."
   ]
  },
  {
   "cell_type": "markdown",
   "id": "0598981f",
   "metadata": {},
   "source": [
    "- The 25th percentile ($P_{25} $) is the same as the first quartile ($Q_1$).\n",
    "\n",
    "- The 50th percentile ($P_{50}$) is the same as the second quartile ($Q_2$) and the median.\n",
    "\n",
    "- The 75th percentile ($P_{75}$) is the same as the third quartile ($Q_3$)"
   ]
  },
  {
   "cell_type": "markdown",
   "id": "eca74600",
   "metadata": {},
   "source": [
    "## 06)Decile"
   ]
  },
  {
   "cell_type": "markdown",
   "id": "1eb024a0",
   "metadata": {},
   "source": [
    "- In descriptive statistics, the term “decile” refers to the nine values that split the population data into ten equal fragments such that each fragment is representative of 1/10th of the population"
   ]
  },
  {
   "cell_type": "markdown",
   "id": "295d5795",
   "metadata": {},
   "source": [
    "$D_5 = Q_2 = p_{50}$\n",
    "\n",
    "$D_8 = P_{80}$\n",
    "\n",
    "- there is no equal for $P_{82}$ in qurtile and decile."
   ]
  },
  {
   "cell_type": "code",
   "execution_count": 8,
   "id": "11027943",
   "metadata": {},
   "outputs": [
    {
     "data": {
      "text/plain": [
       "0      17\n",
       "1      16\n",
       "2      25\n",
       "3      44\n",
       "4      26\n",
       "       ..\n",
       "390    27\n",
       "391    46\n",
       "392    25\n",
       "393    33\n",
       "394    26\n",
       "Length: 395, dtype: int64"
      ]
     },
     "execution_count": 8,
     "metadata": {},
     "output_type": "execute_result"
    }
   ],
   "source": [
    "df_grade"
   ]
  },
  {
   "cell_type": "markdown",
   "id": "2a2176fc",
   "metadata": {},
   "source": [
    "## 07)quantiles in python"
   ]
  },
  {
   "cell_type": "code",
   "execution_count": 9,
   "id": "b4772923",
   "metadata": {
    "scrolled": true
   },
   "outputs": [
    {
     "data": {
      "text/plain": [
       "40.0"
      ]
     },
     "execution_count": 9,
     "metadata": {},
     "output_type": "execute_result"
    }
   ],
   "source": [
    "np.percentile(df_grade, 75)"
   ]
  },
  {
   "cell_type": "markdown",
   "id": "a2684ec3",
   "metadata": {},
   "source": [
    "- meaning that 75% of the grades are 40 or lower."
   ]
  },
  {
   "cell_type": "markdown",
   "id": "978ae8f3",
   "metadata": {},
   "source": [
    "__quantiles using statistics__"
   ]
  },
  {
   "cell_type": "code",
   "execution_count": 10,
   "id": "8be2bf9d",
   "metadata": {},
   "outputs": [
    {
     "data": {
      "text/plain": [
       "[25.0, 32.0, 40.0]"
      ]
     },
     "execution_count": 10,
     "metadata": {},
     "output_type": "execute_result"
    }
   ],
   "source": [
    "import statistics as s       #quartile\n",
    "s.quantiles(df_grade, n=4)"
   ]
  },
  {
   "cell_type": "code",
   "execution_count": 11,
   "id": "9d9386c0",
   "metadata": {},
   "outputs": [
    {
     "data": {
      "text/plain": [
       "[17.0, 23.0, 27.0, 29.0, 32.0, 35.0, 38.0, 42.0, 46.0]"
      ]
     },
     "execution_count": 11,
     "metadata": {},
     "output_type": "execute_result"
    }
   ],
   "source": [
    "s.quantiles(df_grade,n=10)  #Decile"
   ]
  },
  {
   "cell_type": "code",
   "execution_count": 12,
   "id": "04edf6a5",
   "metadata": {},
   "outputs": [
    {
     "data": {
      "text/plain": [
       "[5.96,\n",
       " 7.0,\n",
       " 10.88,\n",
       " 11.0,\n",
       " 12.0,\n",
       " 13.0,\n",
       " 14.72,\n",
       " 16.0,\n",
       " 16.0,\n",
       " 17.0,\n",
       " 17.56,\n",
       " 19.0,\n",
       " 19.0,\n",
       " 19.44,\n",
       " 20.0,\n",
       " 21.0,\n",
       " 21.0,\n",
       " 22.0,\n",
       " 23.0,\n",
       " 23.0,\n",
       " 24.0,\n",
       " 24.0,\n",
       " 24.0,\n",
       " 25.0,\n",
       " 25.0,\n",
       " 25.0,\n",
       " 26.0,\n",
       " 27.0,\n",
       " 27.0,\n",
       " 27.0,\n",
       " 27.0,\n",
       " 27.0,\n",
       " 27.0,\n",
       " 28.0,\n",
       " 28.0,\n",
       " 28.0,\n",
       " 28.0,\n",
       " 28.0,\n",
       " 29.0,\n",
       " 29.0,\n",
       " 29.0,\n",
       " 30.0,\n",
       " 30.0,\n",
       " 30.0,\n",
       " 30.0,\n",
       " 31.0,\n",
       " 31.0,\n",
       " 32.0,\n",
       " 32.0,\n",
       " 32.0,\n",
       " 32.0,\n",
       " 33.0,\n",
       " 33.0,\n",
       " 33.0,\n",
       " 34.0,\n",
       " 34.0,\n",
       " 34.0,\n",
       " 34.68,\n",
       " 35.0,\n",
       " 35.0,\n",
       " 35.0,\n",
       " 36.0,\n",
       " 36.0,\n",
       " 37.0,\n",
       " 37.0,\n",
       " 37.0,\n",
       " 37.0,\n",
       " 38.0,\n",
       " 38.0,\n",
       " 38.0,\n",
       " 38.16,\n",
       " 39.0,\n",
       " 39.0,\n",
       " 40.0,\n",
       " 40.0,\n",
       " 40.0,\n",
       " 41.0,\n",
       " 41.0,\n",
       " 41.0,\n",
       " 42.0,\n",
       " 42.0,\n",
       " 43.0,\n",
       " 43.0,\n",
       " 44.0,\n",
       " 44.0,\n",
       " 45.0,\n",
       " 45.0,\n",
       " 45.48,\n",
       " 46.0,\n",
       " 46.0,\n",
       " 46.0,\n",
       " 47.0,\n",
       " 48.0,\n",
       " 49.0,\n",
       " 50.0,\n",
       " 52.0,\n",
       " 53.0,\n",
       " 54.0,\n",
       " 56.0]"
      ]
     },
     "execution_count": 12,
     "metadata": {},
     "output_type": "execute_result"
    }
   ],
   "source": [
    "s.quantiles(df_grade,n=100)"
   ]
  }
 ],
 "metadata": {
  "kernelspec": {
   "display_name": "Python 3 (ipykernel)",
   "language": "python",
   "name": "python3"
  },
  "language_info": {
   "codemirror_mode": {
    "name": "ipython",
    "version": 3
   },
   "file_extension": ".py",
   "mimetype": "text/x-python",
   "name": "python",
   "nbconvert_exporter": "python",
   "pygments_lexer": "ipython3",
   "version": "3.10.8"
  }
 },
 "nbformat": 4,
 "nbformat_minor": 5
}
