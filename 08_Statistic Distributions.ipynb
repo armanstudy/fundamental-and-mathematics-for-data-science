{
 "cells": [
  {
   "cell_type": "markdown",
   "id": "fb7b0545",
   "metadata": {},
   "source": [
    "<div style=\"color:#483838; padding:0px 10px; border-radius:5px; font-size:18px; text-align:center\"><h1 style='margin:10px 5px'>08_Statistic Distributions</h1>\n",
    "</div>\n",
    "\n",
    "- __01)Uniform distribution__\n",
    "- __02)Bernoulli Distribution__\n",
    "- __03) multinomial distribution__"
   ]
  },
  {
   "cell_type": "markdown",
   "id": "202d0b27",
   "metadata": {},
   "source": [
    "## 01)Uniform distribution"
   ]
  },
  {
   "cell_type": "code",
   "execution_count": 63,
   "id": "eaf21a33",
   "metadata": {},
   "outputs": [],
   "source": [
    "import numpy as np\n",
    "import matplotlib.pyplot as plt"
   ]
  },
  {
   "cell_type": "code",
   "execution_count": 64,
   "id": "ef3c9bfb",
   "metadata": {},
   "outputs": [],
   "source": [
    "uniform_dist = np.random.uniform(low = 0, high = 100, size = 1000_000)"
   ]
  },
  {
   "cell_type": "code",
   "execution_count": 65,
   "id": "a39534c7",
   "metadata": {},
   "outputs": [
    {
     "data": {
      "image/png": "[encoded data removed]",
      "text/plain": [
       "<Figure size 640x480 with 1 Axes>"
      ]
     },
     "metadata": {},
     "output_type": "display_data"
    }
   ],
   "source": [
    "plt.hist(uniform_dist, bins = 20)\n",
    "plt.show()"
   ]
  },
  {
   "cell_type": "code",
   "execution_count": 66,
   "id": "a2dbed47",
   "metadata": {},
   "outputs": [
    {
     "data": {
      "text/plain": [
       "50.041103256904776"
      ]
     },
     "execution_count": 66,
     "metadata": {},
     "output_type": "execute_result"
    }
   ],
   "source": [
    "uniform_dist.mean() #the mean is so near to the middle of data"
   ]
  },
  {
   "cell_type": "code",
   "execution_count": 67,
   "id": "ce25db27",
   "metadata": {},
   "outputs": [
    {
     "data": {
      "text/plain": [
       "28.87579635129602"
      ]
     },
     "execution_count": 67,
     "metadata": {},
     "output_type": "execute_result"
    }
   ],
   "source": [
    "uniform_dist.std() #28 means the dispersion is high."
   ]
  },
  {
   "cell_type": "markdown",
   "id": "a9c295d0",
   "metadata": {},
   "source": [
    "- Note that normal and uniform distributions are continious."
   ]
  },
  {
   "cell_type": "markdown",
   "id": "1f04dd36",
   "metadata": {},
   "source": [
    "## 02)Bernoulli Distribution"
   ]
  },
  {
   "cell_type": "markdown",
   "id": "4280a1d9",
   "metadata": {},
   "source": [
    "- Bernoulli distribution is a discrete probability distribution where the Bernoulli random variable can have only 0 or 1 as the outcome."
   ]
  },
  {
   "cell_type": "markdown",
   "id": "f1b8e059",
   "metadata": {},
   "source": [
    "- To define Bernoulli distribution, binomial command is being used."
   ]
  },
  {
   "cell_type": "markdown",
   "id": "4581f46e",
   "metadata": {},
   "source": [
    "__example 1__"
   ]
  },
  {
   "cell_type": "code",
   "execution_count": 68,
   "id": "f5210d67",
   "metadata": {},
   "outputs": [],
   "source": [
    "ber = np.random.binomial(size = 100, n=1, p=0.5) #n=1 means only 0 and 1 //// p=0.5 means the probability "
   ]
  },
  {
   "cell_type": "markdown",
   "id": "64dc73cd",
   "metadata": {},
   "source": [
    "- we want to know, in 100 times experiment, how many times we win or lose."
   ]
  },
  {
   "cell_type": "code",
   "execution_count": 69,
   "id": "b73cedbb",
   "metadata": {},
   "outputs": [
    {
     "data": {
      "text/plain": [
       "array([0, 1, 1, 0, 0, 1, 1, 0, 1, 1, 0, 1, 0, 0, 0, 0, 1, 1, 0, 1, 1, 0,\n",
       "       0, 0, 0, 0, 1, 0, 1, 0, 1, 0, 1, 1, 1, 1, 0, 1, 0, 1, 0, 0, 1, 1,\n",
       "       0, 1, 1, 1, 0, 1, 0, 0, 0, 0, 1, 0, 0, 0, 1, 0, 1, 1, 1, 1, 1, 1,\n",
       "       0, 1, 0, 0, 1, 1, 0, 1, 1, 1, 1, 1, 0, 1, 1, 1, 1, 0, 1, 1, 1, 0,\n",
       "       1, 0, 0, 0, 1, 1, 1, 0, 1, 0, 1, 0])"
      ]
     },
     "execution_count": 69,
     "metadata": {},
     "output_type": "execute_result"
    }
   ],
   "source": [
    "ber"
   ]
  },
  {
   "cell_type": "markdown",
   "id": "c62881f6",
   "metadata": {},
   "source": [
    "__example 2__"
   ]
  },
  {
   "cell_type": "code",
   "execution_count": 70,
   "id": "631cd802",
   "metadata": {},
   "outputs": [
    {
     "data": {
      "text/plain": [
       "array([23, 22, 16, 16, 24, 23, 20, 21, 14, 18, 14, 26, 17, 24, 25, 18, 26,\n",
       "       24, 19, 12, 25, 24, 23, 24, 20, 19, 16, 15, 17, 29, 17, 20, 22, 18,\n",
       "       18, 19, 18, 14, 23, 15, 22, 13, 21, 26, 19, 27, 21, 21, 29, 19])"
      ]
     },
     "execution_count": 70,
     "metadata": {},
     "output_type": "execute_result"
    }
   ],
   "source": [
    "ber2 = np.random.binomial(size=50, n=100, p=0.2)\n",
    "ber2"
   ]
  },
  {
   "cell_type": "markdown",
   "id": "8059ff44",
   "metadata": {},
   "source": [
    "- the second example shows, among 100 person in 50 times experiment, how many winner do we have."
   ]
  },
  {
   "cell_type": "code",
   "execution_count": 71,
   "id": "f12228a1",
   "metadata": {},
   "outputs": [
    {
     "data": {
      "text/plain": [
       "20.32"
      ]
     },
     "execution_count": 71,
     "metadata": {},
     "output_type": "execute_result"
    }
   ],
   "source": [
    "ber2.mean()"
   ]
  },
  {
   "cell_type": "markdown",
   "id": "7c1aac3b",
   "metadata": {},
   "source": [
    "- since our probability of wining is 0.2 the mean is almost equal to 20."
   ]
  },
  {
   "cell_type": "code",
   "execution_count": 72,
   "id": "0e9eaa7a",
   "metadata": {},
   "outputs": [
    {
     "data": {
      "text/plain": [
       "<AxesSubplot: ylabel='Count'>"
      ]
     },
     "execution_count": 72,
     "metadata": {},
     "output_type": "execute_result"
    },
    {
     "data": {
      "image/png": "[encoded data removed]",
      "text/plain": [
       "<Figure size 640x480 with 1 Axes>"
      ]
     },
     "metadata": {},
     "output_type": "display_data"
    }
   ],
   "source": [
    "import seaborn as sns\n",
    "sns.histplot(ber2, bins=50,kde=True)"
   ]
  },
  {
   "cell_type": "markdown",
   "id": "34629be9",
   "metadata": {},
   "source": [
    "## 03) multinomial distribution"
   ]
  },
  {
   "cell_type": "markdown",
   "id": "7eff5412",
   "metadata": {},
   "source": [
    "- The multinomial distribution models the outcome of n experiments, where the outcome of each trial has a categorical distribution, such as rolling a k-sided dice n times. ."
   ]
  },
  {
   "cell_type": "code",
   "execution_count": 73,
   "id": "bdde168d",
   "metadata": {},
   "outputs": [
    {
     "data": {
      "text/plain": [
       "array([[12, 29, 59],\n",
       "       [ 7, 39, 54],\n",
       "       [ 5, 29, 66],\n",
       "       [14, 27, 59],\n",
       "       [10, 30, 60],\n",
       "       [ 9, 21, 70],\n",
       "       [ 5, 36, 59],\n",
       "       [ 7, 26, 67],\n",
       "       [ 4, 27, 69],\n",
       "       [12, 24, 64]])"
      ]
     },
     "execution_count": 73,
     "metadata": {},
     "output_type": "execute_result"
    }
   ],
   "source": [
    "np.random.multinomial(100, pvals=[.1, .3, .6],size = 10)"
   ]
  }
 ],
 "metadata": {
  "kernelspec": {
   "display_name": "Python 3 (ipykernel)",
   "language": "python",
   "name": "python3"
  },
  "language_info": {
   "codemirror_mode": {
    "name": "ipython",
    "version": 3
   },
   "file_extension": ".py",
   "mimetype": "text/x-python",
   "name": "python",
   "nbconvert_exporter": "python",
   "pygments_lexer": "ipython3",
   "version": "3.10.8"
  }
 },
 "nbformat": 4,
 "nbformat_minor": 5
}
