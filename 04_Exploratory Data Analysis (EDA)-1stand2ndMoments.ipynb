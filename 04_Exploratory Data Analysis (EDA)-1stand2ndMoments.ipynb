{
 "cells": [
  {
   "cell_type": "markdown",
   "id": "fb7b0545",
   "metadata": {},
   "source": [
    "<div style=\"color:#483838; padding:0px 10px; border-radius:5px; font-size:18px; text-align:center\"><h1 style='margin:10px 5px'>Exploratory Data Analysis (EDA)_Moments</h1>\n",
    "</div>\n",
    "\n",
    "- __01)Definitions__\n",
    "- __02)1st-Moment__\n",
    "- mean\n",
    "- median\n",
    "- mode\n",
    "- __03)2st-Moment__\n",
    "- variance\n",
    "- Std\n",
    "- mean absolute deviation and median absolute deviation\n",
    "- COV"
   ]
  },
  {
   "cell_type": "markdown",
   "id": "d6c408ab",
   "metadata": {},
   "source": [
    "## 01)Definitions"
   ]
  },
  {
   "cell_type": "markdown",
   "id": "cc97278c",
   "metadata": {},
   "source": [
    "__Moments__"
   ]
  },
  {
   "cell_type": "markdown",
   "id": "dbcde468",
   "metadata": {},
   "source": [
    "- Moments are set of statistical parameters, describe a distribution. We should undrestand data clearly, before training any advanced ML model.\n",
    "- We have four statistical moments for describing data. "
   ]
  },
  {
   "cell_type": "markdown",
   "id": "9381b76c",
   "metadata": {},
   "source": [
    "## 02) 1st_Moment"
   ]
  },
  {
   "cell_type": "markdown",
   "id": "1f43dba4",
   "metadata": {},
   "source": [
    "- First moment is used to measure the location of the central point of data.The first central moment is the expected value, known also as an expectation, mathematical expectation, mean, or average.\n",
    "- In first moment `The mean/median/mode` are measurements of central tendency. They tell you where the “middle” of a data set is. Each of these statistics defines the midpoint of data differently:"
   ]
  },
  {
   "cell_type": "markdown",
   "id": "69b68bf9",
   "metadata": {},
   "source": [
    "__import dataset__"
   ]
  },
  {
   "cell_type": "code",
   "execution_count": 1,
   "id": "c23a3673",
   "metadata": {},
   "outputs": [],
   "source": [
    "import numpy as np\n",
    "import pandas as pd\n",
    "import matplotlib.pyplot as plt"
   ]
  },
  {
   "cell_type": "code",
   "execution_count": 2,
   "id": "8e0b6481",
   "metadata": {},
   "outputs": [
    {
     "data": {
      "text/html": [
       "<div>\n",
       "<style scoped>\n",
       "    .dataframe tbody tr th:only-of-type {\n",
       "        vertical-align: middle;\n",
       "    }\n",
       "\n",
       "    .dataframe tbody tr th {\n",
       "        vertical-align: top;\n",
       "    }\n",
       "\n",
       "    .dataframe thead th {\n",
       "        text-align: right;\n",
       "    }\n",
       "</style>\n",
       "<table border=\"1\" class=\"dataframe\">\n",
       "  <thead>\n",
       "    <tr style=\"text-align: right;\">\n",
       "      <th></th>\n",
       "      <th>school</th>\n",
       "      <th>sex</th>\n",
       "      <th>age</th>\n",
       "      <th>address</th>\n",
       "      <th>famsize</th>\n",
       "      <th>Pstatus</th>\n",
       "      <th>Medu</th>\n",
       "      <th>Fedu</th>\n",
       "      <th>Mjob</th>\n",
       "      <th>Fjob</th>\n",
       "      <th>...</th>\n",
       "      <th>famrel</th>\n",
       "      <th>freetime</th>\n",
       "      <th>goout</th>\n",
       "      <th>Dalc</th>\n",
       "      <th>Walc</th>\n",
       "      <th>health</th>\n",
       "      <th>absences</th>\n",
       "      <th>G1</th>\n",
       "      <th>G2</th>\n",
       "      <th>G3</th>\n",
       "    </tr>\n",
       "  </thead>\n",
       "  <tbody>\n",
       "    <tr>\n",
       "      <th>0</th>\n",
       "      <td>GP</td>\n",
       "      <td>F</td>\n",
       "      <td>18</td>\n",
       "      <td>U</td>\n",
       "      <td>GT3</td>\n",
       "      <td>A</td>\n",
       "      <td>4</td>\n",
       "      <td>4</td>\n",
       "      <td>at_home</td>\n",
       "      <td>teacher</td>\n",
       "      <td>...</td>\n",
       "      <td>4</td>\n",
       "      <td>3</td>\n",
       "      <td>4</td>\n",
       "      <td>1</td>\n",
       "      <td>1</td>\n",
       "      <td>3</td>\n",
       "      <td>6</td>\n",
       "      <td>5</td>\n",
       "      <td>6</td>\n",
       "      <td>6</td>\n",
       "    </tr>\n",
       "    <tr>\n",
       "      <th>1</th>\n",
       "      <td>GP</td>\n",
       "      <td>F</td>\n",
       "      <td>17</td>\n",
       "      <td>U</td>\n",
       "      <td>GT3</td>\n",
       "      <td>T</td>\n",
       "      <td>1</td>\n",
       "      <td>1</td>\n",
       "      <td>at_home</td>\n",
       "      <td>other</td>\n",
       "      <td>...</td>\n",
       "      <td>5</td>\n",
       "      <td>3</td>\n",
       "      <td>3</td>\n",
       "      <td>1</td>\n",
       "      <td>1</td>\n",
       "      <td>3</td>\n",
       "      <td>4</td>\n",
       "      <td>5</td>\n",
       "      <td>5</td>\n",
       "      <td>6</td>\n",
       "    </tr>\n",
       "    <tr>\n",
       "      <th>2</th>\n",
       "      <td>GP</td>\n",
       "      <td>F</td>\n",
       "      <td>15</td>\n",
       "      <td>U</td>\n",
       "      <td>LE3</td>\n",
       "      <td>T</td>\n",
       "      <td>1</td>\n",
       "      <td>1</td>\n",
       "      <td>at_home</td>\n",
       "      <td>other</td>\n",
       "      <td>...</td>\n",
       "      <td>4</td>\n",
       "      <td>3</td>\n",
       "      <td>2</td>\n",
       "      <td>2</td>\n",
       "      <td>3</td>\n",
       "      <td>3</td>\n",
       "      <td>10</td>\n",
       "      <td>7</td>\n",
       "      <td>8</td>\n",
       "      <td>10</td>\n",
       "    </tr>\n",
       "    <tr>\n",
       "      <th>3</th>\n",
       "      <td>GP</td>\n",
       "      <td>F</td>\n",
       "      <td>15</td>\n",
       "      <td>U</td>\n",
       "      <td>GT3</td>\n",
       "      <td>T</td>\n",
       "      <td>4</td>\n",
       "      <td>2</td>\n",
       "      <td>health</td>\n",
       "      <td>services</td>\n",
       "      <td>...</td>\n",
       "      <td>3</td>\n",
       "      <td>2</td>\n",
       "      <td>2</td>\n",
       "      <td>1</td>\n",
       "      <td>1</td>\n",
       "      <td>5</td>\n",
       "      <td>2</td>\n",
       "      <td>15</td>\n",
       "      <td>14</td>\n",
       "      <td>15</td>\n",
       "    </tr>\n",
       "    <tr>\n",
       "      <th>4</th>\n",
       "      <td>GP</td>\n",
       "      <td>F</td>\n",
       "      <td>16</td>\n",
       "      <td>U</td>\n",
       "      <td>GT3</td>\n",
       "      <td>T</td>\n",
       "      <td>3</td>\n",
       "      <td>3</td>\n",
       "      <td>other</td>\n",
       "      <td>other</td>\n",
       "      <td>...</td>\n",
       "      <td>4</td>\n",
       "      <td>3</td>\n",
       "      <td>2</td>\n",
       "      <td>1</td>\n",
       "      <td>2</td>\n",
       "      <td>5</td>\n",
       "      <td>4</td>\n",
       "      <td>6</td>\n",
       "      <td>10</td>\n",
       "      <td>10</td>\n",
       "    </tr>\n",
       "  </tbody>\n",
       "</table>\n",
       "<p>5 rows × 33 columns</p>\n",
       "</div>"
      ],
      "text/plain": [
       "  school sex  age address famsize Pstatus  Medu  Fedu     Mjob      Fjob  ...  \\\n",
       "0     GP   F   18       U     GT3       A     4     4  at_home   teacher  ...   \n",
       "1     GP   F   17       U     GT3       T     1     1  at_home     other  ...   \n",
       "2     GP   F   15       U     LE3       T     1     1  at_home     other  ...   \n",
       "3     GP   F   15       U     GT3       T     4     2   health  services  ...   \n",
       "4     GP   F   16       U     GT3       T     3     3    other     other  ...   \n",
       "\n",
       "  famrel freetime  goout  Dalc  Walc health absences  G1  G2  G3  \n",
       "0      4        3      4     1     1      3        6   5   6   6  \n",
       "1      5        3      3     1     1      3        4   5   5   6  \n",
       "2      4        3      2     2     3      3       10   7   8  10  \n",
       "3      3        2      2     1     1      5        2  15  14  15  \n",
       "4      4        3      2     1     2      5        4   6  10  10  \n",
       "\n",
       "[5 rows x 33 columns]"
      ]
     },
     "execution_count": 2,
     "metadata": {},
     "output_type": "execute_result"
    }
   ],
   "source": [
    "data = pd.read_csv('G:/Data_analyst/student_data.csv')\n",
    "data.head()"
   ]
  },
  {
   "cell_type": "code",
   "execution_count": 3,
   "id": "d9fbed12",
   "metadata": {},
   "outputs": [
    {
     "data": {
      "text/plain": [
       "0    17\n",
       "1    16\n",
       "2    25\n",
       "3    44\n",
       "4    26\n",
       "dtype: int64"
      ]
     },
     "execution_count": 3,
     "metadata": {},
     "output_type": "execute_result"
    }
   ],
   "source": [
    "#we are going to work on grades:\n",
    "df = data['G1'] + data['G2'] + data['G3']\n",
    "df.head()"
   ]
  },
  {
   "cell_type": "markdown",
   "id": "8dac9147",
   "metadata": {},
   "source": [
    "__mean__"
   ]
  },
  {
   "cell_type": "code",
   "execution_count": 4,
   "id": "dc6f90bc",
   "metadata": {},
   "outputs": [
    {
     "data": {
      "text/plain": [
       "32.037974683544306"
      ]
     },
     "execution_count": 4,
     "metadata": {},
     "output_type": "execute_result"
    }
   ],
   "source": [
    "df.mean()"
   ]
  },
  {
   "cell_type": "markdown",
   "id": "48b27838",
   "metadata": {},
   "source": [
    "-The mean calculates the average of data and not exactly the center of data.Suppose we have 10 grades as bellow:"
   ]
  },
  {
   "cell_type": "code",
   "execution_count": 5,
   "id": "1fd8a72b",
   "metadata": {},
   "outputs": [
    {
     "data": {
      "text/plain": [
       "9.0"
      ]
     },
     "execution_count": 5,
     "metadata": {},
     "output_type": "execute_result"
    }
   ],
   "source": [
    "grade = [1,3,4,5,6,7,8,17,19,20]\n",
    "grade = pd.Series(grade)\n",
    "grade.mean()"
   ]
  },
  {
   "attachments": {
    "04_1.PNG": {
     "image/png": "[encoded data removed]"
    }
   },
   "cell_type": "markdown",
   "id": "39ba2adb",
   "metadata": {},
   "source": [
    "![04_1.PNG](attachment:04_1.PNG)"
   ]
  },
  {
   "cell_type": "markdown",
   "id": "d317c829",
   "metadata": {},
   "source": [
    "- It has been said that our goal is to calculate the centre of data, but 9 is not the centre,since there are 3 numbers in the right hand but 7 numbers in the left hand.It is the average.So it is the problem of using mean.\n",
    "- For calculating the exact centre of data we use median()."
   ]
  },
  {
   "cell_type": "markdown",
   "id": "b43f6a06",
   "metadata": {},
   "source": [
    "__median__"
   ]
  },
  {
   "cell_type": "code",
   "execution_count": 6,
   "id": "1ab7e249",
   "metadata": {},
   "outputs": [
    {
     "data": {
      "text/plain": [
       "6.5"
      ]
     },
     "execution_count": 6,
     "metadata": {},
     "output_type": "execute_result"
    }
   ],
   "source": [
    "grade.median() "
   ]
  },
  {
   "cell_type": "markdown",
   "id": "e6332149",
   "metadata": {},
   "source": [
    "- 6.5 is exactly the centre of our data."
   ]
  },
  {
   "cell_type": "markdown",
   "id": "5ac8990c",
   "metadata": {},
   "source": [
    "- in our data set:"
   ]
  },
  {
   "cell_type": "code",
   "execution_count": 7,
   "id": "d9196f4e",
   "metadata": {},
   "outputs": [
    {
     "data": {
      "text/plain": [
       "32.037974683544306"
      ]
     },
     "execution_count": 7,
     "metadata": {},
     "output_type": "execute_result"
    }
   ],
   "source": [
    "df.mean()"
   ]
  },
  {
   "cell_type": "code",
   "execution_count": 8,
   "id": "5eb8167d",
   "metadata": {},
   "outputs": [
    {
     "data": {
      "text/plain": [
       "32.0"
      ]
     },
     "execution_count": 8,
     "metadata": {},
     "output_type": "execute_result"
    }
   ],
   "source": [
    "df.median()"
   ]
  },
  {
   "cell_type": "markdown",
   "id": "b155719f",
   "metadata": {},
   "source": [
    "__mode__"
   ]
  },
  {
   "cell_type": "markdown",
   "id": "9df5476e",
   "metadata": {},
   "source": [
    "- mode the most likely value."
   ]
  },
  {
   "cell_type": "code",
   "execution_count": 9,
   "id": "bcfde19c",
   "metadata": {},
   "outputs": [
    {
     "data": {
      "text/plain": [
       "0    27\n",
       "dtype: int64"
      ]
     },
     "execution_count": 9,
     "metadata": {},
     "output_type": "execute_result"
    }
   ],
   "source": [
    "df.mode()"
   ]
  },
  {
   "cell_type": "markdown",
   "id": "6358b867",
   "metadata": {},
   "source": [
    "- Note that in order to correct mean, we can use scipy trim_mran.\n",
    "- It Returns mean of array after trimming distribution from both tails."
   ]
  },
  {
   "cell_type": "markdown",
   "id": "2fbd3591",
   "metadata": {},
   "source": [
    "- scipy.stats.trim_mean(a, proportiontocut, axis=0)\n",
    "- proportiontocut : Fraction to cut off of both tails of the distribution."
   ]
  },
  {
   "attachments": {
    "04_2.PNG": {
     "image/png": "[encoded data removed]"
    }
   },
   "cell_type": "markdown",
   "id": "9956883f",
   "metadata": {},
   "source": [
    "![04_2.PNG](attachment:04_2.PNG)"
   ]
  },
  {
   "cell_type": "code",
   "execution_count": 10,
   "id": "3089addb",
   "metadata": {},
   "outputs": [
    {
     "data": {
      "text/plain": [
       "32.25552050473186"
      ]
     },
     "execution_count": 10,
     "metadata": {},
     "output_type": "execute_result"
    }
   ],
   "source": [
    "from scipy import stats\n",
    "stats.trim_mean(df,.1)"
   ]
  },
  {
   "cell_type": "markdown",
   "id": "015773ce",
   "metadata": {},
   "source": [
    "- the median is more correct than trim_mean to find center."
   ]
  },
  {
   "cell_type": "markdown",
   "id": "227990dd",
   "metadata": {},
   "source": [
    "## 03)2nd_moment"
   ]
  },
  {
   "cell_type": "markdown",
   "id": "b5167e76",
   "metadata": {},
   "source": [
    "- In second moment we calculate Vaiance, which  represents how a set of data points are spread out around their mean value(measure of the variability ).\n"
   ]
  },
  {
   "cell_type": "markdown",
   "id": "e20e77f5",
   "metadata": {},
   "source": [
    "__Variance__"
   ]
  },
  {
   "cell_type": "markdown",
   "id": "df1c662a",
   "metadata": {},
   "source": [
    "- Variance calculates the mean of our data and then sum the distances of each sample from the mean, then divide by the number of samples. The greater the variance, the greater the dispersion of the samples."
   ]
  },
  {
   "attachments": {
    "04_3.PNG": {
     "image/png": "[encoded data removed]"
    }
   },
   "cell_type": "markdown",
   "id": "d70ddcd0",
   "metadata": {},
   "source": [
    "![04_3.PNG](attachment:04_3.PNG)"
   ]
  },
  {
   "cell_type": "markdown",
   "id": "3241f8a4",
   "metadata": {},
   "source": [
    "$$V_{population} = \\frac{\\Sigma(X- \\overline{X)}^2}{N}$$"
   ]
  },
  {
   "cell_type": "markdown",
   "id": "0d7b39f1",
   "metadata": {},
   "source": [
    "- power 2 is due to preventing negative numbers in sum."
   ]
  },
  {
   "cell_type": "markdown",
   "id": "70467823",
   "metadata": {},
   "source": [
    "- And for our sample the variance is:"
   ]
  },
  {
   "cell_type": "markdown",
   "id": "c7b57606",
   "metadata": {},
   "source": [
    "$$V_{sample} = \\frac{\\Sigma(X- \\overline{X)}^2}{N-1}$$"
   ]
  },
  {
   "cell_type": "markdown",
   "id": "e28047db",
   "metadata": {},
   "source": [
    "__standard Deviation__"
   ]
  },
  {
   "cell_type": "markdown",
   "id": "9327ee90",
   "metadata": {},
   "source": [
    "- Suppose the unit of our examples is in meters. But our variance out put is in $m^2$ .\n",
    "- To prevent this issue `Standard Deviation` has been defined."
   ]
  },
  {
   "cell_type": "markdown",
   "id": "9cb5b912",
   "metadata": {},
   "source": [
    "$$\\sigma = \\sqrt{V}$$"
   ]
  },
  {
   "cell_type": "markdown",
   "id": "a56404c3",
   "metadata": {},
   "source": [
    "- Std describes whether the data points are in close proximity or whether they are spread out to the mean."
   ]
  },
  {
   "cell_type": "markdown",
   "id": "6abdde89",
   "metadata": {},
   "source": [
    "__calculating std using pandas__"
   ]
  },
  {
   "cell_type": "code",
   "execution_count": 11,
   "id": "4561a024",
   "metadata": {},
   "outputs": [
    {
     "data": {
      "text/plain": [
       "11.090356901031223"
      ]
     },
     "execution_count": 11,
     "metadata": {},
     "output_type": "execute_result"
    }
   ],
   "source": [
    "#we are going to work on grades:\n",
    "df = data['G1'] + data['G2'] + data['G3']\n",
    "df.std()"
   ]
  },
  {
   "cell_type": "markdown",
   "id": "c68246f7",
   "metadata": {},
   "source": [
    "- This means that our data are on average 11 away from the average."
   ]
  },
  {
   "cell_type": "markdown",
   "id": "06b8568e",
   "metadata": {},
   "source": [
    "- let's plot our mean, median and mode."
   ]
  },
  {
   "cell_type": "code",
   "execution_count": 12,
   "id": "22a0298c",
   "metadata": {},
   "outputs": [],
   "source": [
    "mean = df.mean()\n",
    "mode = df.mode()\n",
    "median = df.median()"
   ]
  },
  {
   "cell_type": "code",
   "execution_count": 13,
   "id": "04feb522",
   "metadata": {
    "scrolled": true
   },
   "outputs": [
    {
     "data": {
      "application/vnd.jupyter.widget-view+json": {
       "model_id": "e641b82e93d748559bf91b4769550fcc",
       "version_major": 2,
       "version_minor": 0
      },
      "image/png": "[encoded data removed]",
      "text/html": [
       "\n",
       "            <div style=\"display: inline-block;\">\n",
       "                <div class=\"jupyter-widgets widget-label\" style=\"text-align: center;\">\n",
       "                    Figure\n",
       "                </div>\n",
       "                <img src='data:image/png;base64,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' width=640.0/>\n",
       "            </div>\n",
       "        "
      ],
      "text/plain": [
       "Canvas(toolbar=Toolbar(toolitems=[('Home', 'Reset original view', 'home', 'home'), ('Back', 'Back to previous …"
      ]
     },
     "metadata": {},
     "output_type": "display_data"
    }
   ],
   "source": [
    "%matplotlib widget\n",
    "plt.scatter(mean, 1, s = 500,color = 'b')\n",
    "plt.scatter(median, 1, s = 100,color = 'r')\n",
    "plt.scatter(mode, 1, s = 300,color = 'g')\n",
    "plt.show()"
   ]
  },
  {
   "cell_type": "code",
   "execution_count": 22,
   "id": "cd3e237b",
   "metadata": {},
   "outputs": [],
   "source": [
    "#mean > median > mode"
   ]
  },
  {
   "cell_type": "markdown",
   "id": "7c1caf99",
   "metadata": {},
   "source": [
    "__`mean absolute deviation` and `median absolute deviation`__"
   ]
  },
  {
   "cell_type": "markdown",
   "id": "22650cb4",
   "metadata": {},
   "source": [
    "- We also have `mean absolute deviation` and `median absolute deviation`"
   ]
  },
  {
   "cell_type": "markdown",
   "id": "f8183f20",
   "metadata": {},
   "source": [
    "- They also calculate the data dispersion"
   ]
  },
  {
   "cell_type": "markdown",
   "id": "59344276",
   "metadata": {},
   "source": [
    "__mean absolute deviation(MAD)__"
   ]
  },
  {
   "cell_type": "markdown",
   "id": "fdf863ce",
   "metadata": {},
   "source": [
    "- The mean absolute deviation of a dataset is the average distance between each data point and the mean. It gives us an idea about the variability in a dataset."
   ]
  },
  {
   "cell_type": "markdown",
   "id": "8831f1a8",
   "metadata": {},
   "source": [
    "$$MAD = \\frac{\\Sigma|X_i- mean |}{N}$$"
   ]
  },
  {
   "cell_type": "markdown",
   "id": "feee3e76",
   "metadata": {},
   "source": [
    "- __mean = average value of the data set__\n",
    "- __$X_i$ = data values in the set__\n",
    "- __N = number of data values__"
   ]
  },
  {
   "cell_type": "markdown",
   "id": "0ef40bc6",
   "metadata": {},
   "source": [
    "__median absolute deviation(MAD)__"
   ]
  },
  {
   "cell_type": "markdown",
   "id": "987b6a00",
   "metadata": {},
   "source": [
    "-  In statistics, the median absolute deviation is a measure of variability in a set of data. It is the average distance that the data values have ."
   ]
  },
  {
   "cell_type": "markdown",
   "id": "1852e154",
   "metadata": {},
   "source": [
    "$$MAD = \\frac{\\Sigma|X_i- median |}{N}$$"
   ]
  },
  {
   "cell_type": "markdown",
   "id": "47f57e84",
   "metadata": {},
   "source": [
    "- __median = the center of the data set__\n",
    "- __$X_i$ = data values in the set__\n",
    "- __N = number of data values__"
   ]
  },
  {
   "cell_type": "markdown",
   "id": "fcf8835c",
   "metadata": {},
   "source": [
    "- NOTE that STD is a better way to calculate the dispersion of data, since in variance we have power of 2, it affects distant samples more."
   ]
  },
  {
   "cell_type": "markdown",
   "id": "31e7c0a6",
   "metadata": {},
   "source": [
    "__COV(coefficient of variation)__"
   ]
  },
  {
   "cell_type": "markdown",
   "id": "cfce0a2a",
   "metadata": {},
   "source": [
    "- There is a measurement unit in std and MADs and we cannot correctly compare, for example, the currency of two countries or the grades of two different classes where the grades of one class are between 0 and 20 and the other class is between 0 and 100. For this reason, we use COV because it removes the unit of measurement."
   ]
  },
  {
   "cell_type": "markdown",
   "id": "0e46b8c2",
   "metadata": {},
   "source": [
    "$$COV = \\frac{\\sigma(std)}{mean}$$"
   ]
  },
  {
   "cell_type": "markdown",
   "id": "c763f8f8",
   "metadata": {},
   "source": [
    "- __COV in code:__"
   ]
  },
  {
   "cell_type": "code",
   "execution_count": 15,
   "id": "9e6a4cd4",
   "metadata": {},
   "outputs": [],
   "source": [
    "a_class = np.random.randint(0, 100, 60)\n",
    "b_class = np.random.randint(0, 20, 50)"
   ]
  },
  {
   "cell_type": "code",
   "execution_count": 16,
   "id": "e1096ff9",
   "metadata": {},
   "outputs": [],
   "source": [
    "a_std = a_class.std()\n",
    "a_mean = a_class.mean()"
   ]
  },
  {
   "cell_type": "code",
   "execution_count": 17,
   "id": "f7c76eaf",
   "metadata": {},
   "outputs": [],
   "source": [
    "b_std = b_class.std()\n",
    "b_mean = b_class.mean()"
   ]
  },
  {
   "cell_type": "code",
   "execution_count": 18,
   "id": "1c5e6cc0",
   "metadata": {},
   "outputs": [
    {
     "data": {
      "text/plain": [
       "28.726565328203712"
      ]
     },
     "execution_count": 18,
     "metadata": {},
     "output_type": "execute_result"
    }
   ],
   "source": [
    "a_std"
   ]
  },
  {
   "cell_type": "code",
   "execution_count": 19,
   "id": "31752823",
   "metadata": {},
   "outputs": [
    {
     "data": {
      "text/plain": [
       "5.191685660746421"
      ]
     },
     "execution_count": 19,
     "metadata": {},
     "output_type": "execute_result"
    }
   ],
   "source": [
    "b_std"
   ]
  },
  {
   "cell_type": "markdown",
   "id": "32b19050",
   "metadata": {},
   "source": [
    "- it is clear that stds are in different range and cannot be compared. therefore we use COV."
   ]
  },
  {
   "cell_type": "code",
   "execution_count": 20,
   "id": "b4abfec3",
   "metadata": {},
   "outputs": [
    {
     "data": {
      "text/plain": [
       "0.5617972358840361"
      ]
     },
     "execution_count": 20,
     "metadata": {},
     "output_type": "execute_result"
    }
   ],
   "source": [
    "a_cov = a_std / a_mean\n",
    "a_cov"
   ]
  },
  {
   "cell_type": "code",
   "execution_count": 21,
   "id": "dff04472",
   "metadata": {},
   "outputs": [
    {
     "data": {
      "text/plain": [
       "0.5150481806296052"
      ]
     },
     "execution_count": 21,
     "metadata": {},
     "output_type": "execute_result"
    }
   ],
   "source": [
    "b_cov = b_std / b_mean\n",
    "b_cov"
   ]
  },
  {
   "cell_type": "markdown",
   "id": "a93e8855",
   "metadata": {},
   "source": [
    "- from covs we can undrestand that the dispersion of data are so similar and they nearly have similar distribution."
   ]
  }
 ],
 "metadata": {
  "kernelspec": {
   "display_name": "Python 3 (ipykernel)",
   "language": "python",
   "name": "python3"
  },
  "language_info": {
   "codemirror_mode": {
    "name": "ipython",
    "version": 3
   },
   "file_extension": ".py",
   "mimetype": "text/x-python",
   "name": "python",
   "nbconvert_exporter": "python",
   "pygments_lexer": "ipython3",
   "version": "3.10.8"
  }
 },
 "nbformat": 4,
 "nbformat_minor": 5
}
